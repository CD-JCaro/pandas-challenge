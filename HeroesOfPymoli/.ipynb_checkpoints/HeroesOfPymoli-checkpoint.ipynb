{
 "cells": [
  {
   "cell_type": "code",
   "execution_count": 1,
   "metadata": {},
   "outputs": [],
   "source": [
    "import pandas as pd"
   ]
  },
  {
   "cell_type": "code",
   "execution_count": 2,
   "metadata": {},
   "outputs": [],
   "source": [
    "path = 'Resources/purchase_data.csv'\n",
    "\n",
    "dfRaw = pd.read_csv(path)"
   ]
  },
  {
   "cell_type": "code",
   "execution_count": 3,
   "metadata": {},
   "outputs": [
    {
     "data": {
      "text/plain": [
       "Index(['Purchase ID', 'SN', 'Age', 'Gender', 'Item ID', 'Item Name', 'Price'], dtype='object')"
      ]
     },
     "execution_count": 3,
     "metadata": {},
     "output_type": "execute_result"
    }
   ],
   "source": [
    "dfRaw.columns"
   ]
  },
  {
   "cell_type": "code",
   "execution_count": 10,
   "metadata": {},
   "outputs": [
    {
     "data": {
      "text/html": [
       "<div>\n",
       "<style scoped>\n",
       "    .dataframe tbody tr th:only-of-type {\n",
       "        vertical-align: middle;\n",
       "    }\n",
       "\n",
       "    .dataframe tbody tr th {\n",
       "        vertical-align: top;\n",
       "    }\n",
       "\n",
       "    .dataframe thead th {\n",
       "        text-align: right;\n",
       "    }\n",
       "</style>\n",
       "<table border=\"1\" class=\"dataframe\">\n",
       "  <thead>\n",
       "    <tr style=\"text-align: right;\">\n",
       "      <th></th>\n",
       "      <th>Player Count</th>\n",
       "    </tr>\n",
       "  </thead>\n",
       "  <tbody>\n",
       "    <tr>\n",
       "      <th>0</th>\n",
       "      <td>576</td>\n",
       "    </tr>\n",
       "  </tbody>\n",
       "</table>\n",
       "</div>"
      ],
      "text/plain": [
       "   Player Count\n",
       "0           576"
      ]
     },
     "execution_count": 10,
     "metadata": {},
     "output_type": "execute_result"
    }
   ],
   "source": [
    "playerCountData = {'Player Count': [len(dfRaw['SN'].value_counts())]}\n",
    "\n",
    "dfPlayerCount = pd.DataFrame(playerCountData)\n",
    "\n",
    "dfPlayerCount.head()"
   ]
  },
  {
   "cell_type": "code",
   "execution_count": 14,
   "metadata": {},
   "outputs": [
    {
     "data": {
      "text/html": [
       "<div>\n",
       "<style scoped>\n",
       "    .dataframe tbody tr th:only-of-type {\n",
       "        vertical-align: middle;\n",
       "    }\n",
       "\n",
       "    .dataframe tbody tr th {\n",
       "        vertical-align: top;\n",
       "    }\n",
       "\n",
       "    .dataframe thead th {\n",
       "        text-align: right;\n",
       "    }\n",
       "</style>\n",
       "<table border=\"1\" class=\"dataframe\">\n",
       "  <thead>\n",
       "    <tr style=\"text-align: right;\">\n",
       "      <th></th>\n",
       "      <th>Unique Items</th>\n",
       "      <th>Average Price</th>\n",
       "      <th>Number of Purchases</th>\n",
       "      <th>Total Revanue</th>\n",
       "    </tr>\n",
       "  </thead>\n",
       "  <tbody>\n",
       "    <tr>\n",
       "      <th>0</th>\n",
       "      <td>179</td>\n",
       "      <td>$3.05</td>\n",
       "      <td>780</td>\n",
       "      <td>$2,379.77</td>\n",
       "    </tr>\n",
       "  </tbody>\n",
       "</table>\n",
       "</div>"
      ],
      "text/plain": [
       "   Unique Items Average Price  Number of Purchases Total Revanue\n",
       "0           179         $3.05                  780     $2,379.77"
      ]
     },
     "execution_count": 14,
     "metadata": {},
     "output_type": "execute_result"
    }
   ],
   "source": [
    "nUniqueItems = len(dfRaw['Item Name'].value_counts())\n",
    "fAveragePrice = dfRaw['Price'].mean()\n",
    "nNumPurchases = len(dfRaw.index)\n",
    "nTotalRevenue = dfRaw['Price'].sum()\n",
    "\n",
    "purchaseData = {'Unique Items': [nUniqueItems],\n",
    "                'Average Price': [fAveragePrice],\n",
    "                'Number of Purchases': [nNumPurchases],\n",
    "                'Total Revanue': [nTotalRevenue]}\n",
    "dfPurchaseData = pd.DataFrame(purchaseData)\n",
    "\n",
    "dfPurchaseData['Average Price'] = dfPurchaseData['Average Price'].map(\"${:.2f}\".format)\n",
    "dfPurchaseData['Total Revanue'] = dfPurchaseData['Total Revanue'].map(\"${:,.2f}\".format)\n",
    "\n",
    "dfPurchaseData.head()"
   ]
  },
  {
   "cell_type": "code",
   "execution_count": 47,
   "metadata": {},
   "outputs": [
    {
     "data": {
      "text/html": [
       "<div>\n",
       "<style scoped>\n",
       "    .dataframe tbody tr th:only-of-type {\n",
       "        vertical-align: middle;\n",
       "    }\n",
       "\n",
       "    .dataframe tbody tr th {\n",
       "        vertical-align: top;\n",
       "    }\n",
       "\n",
       "    .dataframe thead th {\n",
       "        text-align: right;\n",
       "    }\n",
       "</style>\n",
       "<table border=\"1\" class=\"dataframe\">\n",
       "  <thead>\n",
       "    <tr style=\"text-align: right;\">\n",
       "      <th></th>\n",
       "      <th>Gender</th>\n",
       "      <th>Percentage of Players</th>\n",
       "    </tr>\n",
       "  </thead>\n",
       "  <tbody>\n",
       "    <tr>\n",
       "      <th>Male</th>\n",
       "      <td>484</td>\n",
       "      <td>0.840278</td>\n",
       "    </tr>\n",
       "    <tr>\n",
       "      <th>Female</th>\n",
       "      <td>81</td>\n",
       "      <td>0.140625</td>\n",
       "    </tr>\n",
       "    <tr>\n",
       "      <th>Other / Non-Disclosed</th>\n",
       "      <td>11</td>\n",
       "      <td>0.019097</td>\n",
       "    </tr>\n",
       "  </tbody>\n",
       "</table>\n",
       "</div>"
      ],
      "text/plain": [
       "                       Gender  Percentage of Players\n",
       "Male                      484               0.840278\n",
       "Female                     81               0.140625\n",
       "Other / Non-Disclosed      11               0.019097"
      ]
     },
     "execution_count": 47,
     "metadata": {},
     "output_type": "execute_result"
    }
   ],
   "source": [
    "dfUniqueUsers = dfRaw.drop_duplicates(subset = \"SN\")\n",
    "\n",
    "dfGenders = dfUniqueUsers['Gender'].value_counts()\n",
    "\n",
    "nNumMale = dfUniqueUsers.query('Gender == \"Male\"').Gender.count()\n",
    "nNumFemale = dfUniqueUsers.query('Gender == \"Female\"').Gender.count()\n",
    "nNumOther = dfUniqueUsers.query('Gender != \"Male\" & Gender != \"Female\"').Gender.count()\n",
    "\n",
    "nTotal = nNumMale + nNumFemale + nNumOther\n",
    "\n",
    "genderData = {'Gender': dfGenders,\n",
    "              'Percentage of Players': [(nNumMale/nTotal)*100, (nNumFemale/nTotal)*100, (nNumOther/nTotal)*100]}\n",
    "\n",
    "dfGenderData = pd.DataFrame(genderData)\n",
    "\n",
    "dfPurchaseData['Average Price'] = dfPurchaseData['Average Price'].map(\"${:.2f}\".format)\n",
    "dfGenderData['Percentage of Players'] = dfGenderData['Percentage of Players'].map(\"{:.2f}%\").format)\n",
    "dfGenderData.head()"
   ]
  },
  {
   "cell_type": "code",
   "execution_count": null,
   "metadata": {},
   "outputs": [],
   "source": []
  }
 ],
 "metadata": {
  "kernelspec": {
   "display_name": "Python 3",
   "language": "python",
   "name": "python3"
  },
  "language_info": {
   "codemirror_mode": {
    "name": "ipython",
    "version": 3
   },
   "file_extension": ".py",
   "mimetype": "text/x-python",
   "name": "python",
   "nbconvert_exporter": "python",
   "pygments_lexer": "ipython3",
   "version": "3.7.4"
  }
 },
 "nbformat": 4,
 "nbformat_minor": 2
}
